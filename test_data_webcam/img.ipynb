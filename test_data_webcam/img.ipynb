{
  "nbformat": 4,
  "nbformat_minor": 0,
  "metadata": {
    "colab": {
      "name": "img.ipynb",
      "provenance": []
    },
    "kernelspec": {
      "name": "python3",
      "display_name": "Python 3"
    },
    "language_info": {
      "name": "python"
    }
  },
  "cells": [
    {
      "cell_type": "code",
      "source": [
        "from google.colab import drive\n",
        "drive.mount('/content/drive')"
      ],
      "metadata": {
        "id": "RGVmg164Du_k"
      },
      "execution_count": null,
      "outputs": []
    },
    {
      "cell_type": "code",
      "source": [
        "!cd /content/drive/MyDrive"
      ],
      "metadata": {
        "id": "IH4CGPFEEBra"
      },
      "execution_count": 3,
      "outputs": []
    },
    {
      "cell_type": "code",
      "source": [
        "from IPython.display import display, Javascript\n",
        "from google.colab.output import eval_js\n",
        "from base64 import b64decode\n",
        "\n",
        "# 파이썬 take_photo함수\n",
        "def take_photo(filename='photo.jpg', quality=0.8):\n",
        "  #자바스크립 작성 시작\n",
        "  js = Javascript('''\n",
        "    async function takePhoto(quality) {\n",
        "      //div(공간) 생성\n",
        "      const div = document.createElement('div');\n",
        "      //button 생성\n",
        "      const capture = document.createElement('button');\n",
        "      capture.textContent = 'Capture';\n",
        "      div.appendChild(capture);\n",
        "\n",
        "      //video 생성\n",
        "      const video = document.createElement('video');\n",
        "      //비디오 모양 네모네모\n",
        "      video.style.display = 'block';\n",
        "      //카메라(웹캠) 불러오기\n",
        "      const stream = await navigator.mediaDevices.getUserMedia({video: true});\n",
        "\n",
        "      //div 밑에 child 공간 추가\n",
        "      document.body.appendChild(div);\n",
        "      //공간에 video 넣기\n",
        "      div.appendChild(video);\n",
        "      //video와 웹캠 연결\n",
        "      video.srcObject = stream;\n",
        "      //await => 비동기식 처리(thread와 관련)(async와 세트)\n",
        "      await video.play();\n",
        "\n",
        "      // Resize the output to fit the video element.\n",
        "      google.colab.output.setIframeHeight(document.documentElement.scrollHeight, true);\n",
        "\n",
        "      // Wait for Capture to be clicked.\n",
        "      await new Promise((resolve) => capture.onclick = resolve);\n",
        "\n",
        "      //canvas 생성\n",
        "      const canvas = document.createElement('canvas');\n",
        "      //크기 맞추기\n",
        "      canvas.width = video.videoWidth;\n",
        "      canvas.height = video.videoHeight;\n",
        "      //이미지 그리기\n",
        "      canvas.getContext('2d').drawImage(video, 0, 0);\n",
        "      //비디오 끄기\n",
        "      \n",
        "      stream.getVideoTracks()[0].stop();\n",
        "      //div 삭제 \n",
        "      div.remove();\n",
        "      return canvas.toDataURL('image/jpeg', quality);\n",
        "    }\n",
        "    ''')\n",
        "  display(js)\n",
        "  # 자바 스크립트 코드 실행 결과를 반환 값을 파이썬에게 전달해주\n",
        "  data = eval_js('takePhoto({})'.format(quality))\n",
        "  # 웹브라우저에서 데이터를 저장할때 base64로 저장\n",
        "  binary = b64decode(data.split(',')[1])\n",
        "  with open(filename, 'wb') as f:\n",
        "    f.write(binary)\n",
        "  return filename"
      ],
      "metadata": {
        "id": "w-godhAKA3Rt"
      },
      "execution_count": null,
      "outputs": []
    },
    {
      "cell_type": "code",
      "source": [
        "from IPython.display import Image\n",
        "for i in range(50):\n",
        "  a='pills_name'+str(i)+'.jpg'\n",
        "  try:\n",
        "    filename = take_photo(filename=a)\n",
        "    print('Saved to {}'.format(filename))\n",
        "      \n",
        "      # Show the image which was just taken.\n",
        "    display(Image(filename))\n",
        "  except Exception as err:\n",
        "      # Errors will be thrown if the user does not have a webcam or if they do not\n",
        "      # grant the page permission to access it.\n",
        "    print(str(err))"
      ],
      "metadata": {
        "colab": {
          "base_uri": "https://localhost:8080/"
        },
        "id": "KQgqx78RBKYC",
        "outputId": "56e9fcd0-1aeb-407a-efab-7a8408430c94"
      },
      "execution_count": 1,
      "outputs": [
        {
          "output_type": "stream",
          "name": "stdout",
          "text": [
            "name 'take_photo' is not defined\n",
            "name 'take_photo' is not defined\n",
            "name 'take_photo' is not defined\n",
            "name 'take_photo' is not defined\n",
            "name 'take_photo' is not defined\n",
            "name 'take_photo' is not defined\n",
            "name 'take_photo' is not defined\n",
            "name 'take_photo' is not defined\n",
            "name 'take_photo' is not defined\n",
            "name 'take_photo' is not defined\n",
            "name 'take_photo' is not defined\n",
            "name 'take_photo' is not defined\n",
            "name 'take_photo' is not defined\n",
            "name 'take_photo' is not defined\n",
            "name 'take_photo' is not defined\n",
            "name 'take_photo' is not defined\n",
            "name 'take_photo' is not defined\n",
            "name 'take_photo' is not defined\n",
            "name 'take_photo' is not defined\n",
            "name 'take_photo' is not defined\n",
            "name 'take_photo' is not defined\n",
            "name 'take_photo' is not defined\n",
            "name 'take_photo' is not defined\n",
            "name 'take_photo' is not defined\n",
            "name 'take_photo' is not defined\n",
            "name 'take_photo' is not defined\n",
            "name 'take_photo' is not defined\n",
            "name 'take_photo' is not defined\n",
            "name 'take_photo' is not defined\n",
            "name 'take_photo' is not defined\n",
            "name 'take_photo' is not defined\n",
            "name 'take_photo' is not defined\n",
            "name 'take_photo' is not defined\n",
            "name 'take_photo' is not defined\n",
            "name 'take_photo' is not defined\n",
            "name 'take_photo' is not defined\n",
            "name 'take_photo' is not defined\n",
            "name 'take_photo' is not defined\n",
            "name 'take_photo' is not defined\n",
            "name 'take_photo' is not defined\n",
            "name 'take_photo' is not defined\n",
            "name 'take_photo' is not defined\n",
            "name 'take_photo' is not defined\n",
            "name 'take_photo' is not defined\n",
            "name 'take_photo' is not defined\n",
            "name 'take_photo' is not defined\n",
            "name 'take_photo' is not defined\n",
            "name 'take_photo' is not defined\n",
            "name 'take_photo' is not defined\n",
            "name 'take_photo' is not defined\n"
          ]
        }
      ]
    },
    {
      "cell_type": "code",
      "source": [
        "from IPython.display import Image\n",
        "\n",
        "a='photo'+str(i)+'.jpg'\n",
        "try:\n",
        "  filename = take_photo(filename=a)\n",
        "  print('Saved to {}'.format(filename))\n",
        "      \n",
        "  # Show the image which was just taken.\n",
        "  display(Image(filename))\n",
        "except Exception as err:\n",
        "  # Errors will be thrown if the user does not have a webcam or if they do not\n",
        "  # grant the page permission to access it.\n",
        "  print(str(err))"
      ],
      "metadata": {
        "colab": {
          "base_uri": "https://localhost:8080/",
          "height": 35
        },
        "id": "Bzx-O41PZfVN",
        "outputId": "0b94d728-0c00-49a7-be4b-6c292211781c"
      },
      "execution_count": 6,
      "outputs": [
        {
          "data": {
            "application/javascript": [
              "\n",
              "    async function takePhoto(quality) {\n",
              "      //div(공간) 생성\n",
              "      const div = document.createElement('div');\n",
              "      //button 생성\n",
              "      const capture = document.createElement('button');\n",
              "      capture.textContent = 'Capture';\n",
              "      div.appendChild(capture);\n",
              "\n",
              "      //video 생성\n",
              "      const video = document.createElement('video');\n",
              "      //비디오 모양 네모네모\n",
              "      video.style.display = 'block';\n",
              "      //카메라(웹캠) 불러오기\n",
              "      const stream = await navigator.mediaDevices.getUserMedia({video: true});\n",
              "\n",
              "      //div 밑에 child 공간 추가\n",
              "      document.body.appendChild(div);\n",
              "      //공간에 video 넣기\n",
              "      div.appendChild(video);\n",
              "      //video와 웹캠 연결\n",
              "      video.srcObject = stream;\n",
              "      //await => 비동기식 처리(thread와 관련)(async와 세트)\n",
              "      await video.play();\n",
              "\n",
              "      // Resize the output to fit the video element.\n",
              "      google.colab.output.setIframeHeight(document.documentElement.scrollHeight, true);\n",
              "\n",
              "      // Wait for Capture to be clicked.\n",
              "      await new Promise((resolve) => capture.onclick = resolve);\n",
              "\n",
              "      //canvas 생성\n",
              "      const canvas = document.createElement('canvas');\n",
              "      //크기 맞추기\n",
              "      canvas.width = video.videoWidth;\n",
              "      canvas.height = video.videoHeight;\n",
              "      //이미지 그리기\n",
              "      canvas.getContext('2d').drawImage(video, 0, 0);\n",
              "      //비디오 끄기\n",
              "      \n",
              "      stream.getVideoTracks()[0].stop();\n",
              "      //div 삭제 \n",
              "      div.remove();\n",
              "      return canvas.toDataURL('image/jpeg', quality);\n",
              "    }\n",
              "    "
            ],
            "text/plain": [
              "<IPython.core.display.Javascript object>"
            ]
          },
          "metadata": {},
          "output_type": "display_data"
        },
        {
          "output_type": "stream",
          "name": "stdout",
          "text": [
            "NotAllowedError: Permission dismissed\n"
          ]
        }
      ]
    }
  ]
}